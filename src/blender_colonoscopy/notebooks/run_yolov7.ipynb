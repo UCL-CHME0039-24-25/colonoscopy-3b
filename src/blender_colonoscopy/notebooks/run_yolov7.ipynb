{
  "cells": [
    {
      "cell_type": "markdown",
      "metadata": {
        "id": "p87Byso6FLNu"
      },
      "source": [
        "# **1. Mount Drive**"
      ]
    },
    {
      "cell_type": "code",
      "execution_count": null,
      "metadata": {
        "colab": {
          "base_uri": "https://localhost:8080/"
        },
        "id": "-zpetrnMFX83",
        "outputId": "957788a0-e5c2-43c1-9502-68298495d0f4"
      },
      "outputs": [],
      "source": [
        "from google.colab import drive\n",
        "drive.mount('/content/gdrive')\n",
        "%cd /content/gdrive/MyDrive"
      ]
    },
    {
      "cell_type": "markdown",
      "metadata": {
        "id": "kRfTVyrYFqo5"
      },
      "source": [
        "# **2. Clone new repo**"
      ]
    },
    {
      "cell_type": "code",
      "execution_count": null,
      "metadata": {
        "colab": {
          "base_uri": "https://localhost:8080/"
        },
        "id": "BqA8VyZDsF2C",
        "outputId": "19cda9e2-3482-4275-85d7-ae5926fe31f0"
      },
      "outputs": [],
      "source": [
        "!git clone https://github.com/WongKinYiu/yolov7\n",
        "#If you've already cloned the repo in a previous session and it's in your Google Drive, you don’t need to clone it again"
      ]
    },
    {
      "cell_type": "markdown",
      "metadata": {
        "id": "C94SUEf3jRIn"
      },
      "source": [
        "# **3. Navigate to repo and install requirements**"
      ]
    },
    {
      "cell_type": "code",
      "execution_count": null,
      "metadata": {
        "colab": {
          "base_uri": "https://localhost:8080/",
          "height": 1000
        },
        "id": "UfrwZffJjWqR",
        "outputId": "43e49adb-eb65-45a4-a7c1-ed5e54b989eb"
      },
      "outputs": [],
      "source": [
        "%cd yolov7\n",
        "!pip install -r requirements.txt #re-install pip packages every session"
      ]
    },
    {
      "cell_type": "markdown",
      "metadata": {
        "id": "5Ee2b8eJHmIe"
      },
      "source": [
        "# **4. Install and login to wandb**\n",
        "Include --entity colon_coders argument in train script if using wandb.\n",
        "\n"
      ]
    },
    {
      "cell_type": "code",
      "execution_count": null,
      "metadata": {
        "colab": {
          "base_uri": "https://localhost:8080/",
          "height": 607
        },
        "id": "2rkqN9M0ycwC",
        "outputId": "71bf7818-f9b0-4158-9cbf-b2152a85aa3d"
      },
      "outputs": [],
      "source": [
        "!pip install wandb #re-install pip packages every session\n",
        "import wandb\n",
        "wandb.login()"
      ]
    },
    {
      "cell_type": "markdown",
      "metadata": {},
      "source": [
        "# **5. Confirm you are using a GPU**"
      ]
    },
    {
      "cell_type": "code",
      "execution_count": null,
      "metadata": {},
      "outputs": [],
      "source": [
        "import torch\n",
        "torch.cuda.is_available()"
      ]
    },
    {
      "cell_type": "markdown",
      "metadata": {
        "id": "fCDtEWbgH3Hu"
      },
      "source": [
        "# **6. Train Model**\n",
        "*   Update name (--name colon_run_X) with each run\n",
        "\n",
        "\n",
        "\n"
      ]
    },
    {
      "cell_type": "code",
      "execution_count": null,
      "metadata": {},
      "outputs": [],
      "source": [
        "%cd /content/gdrive/MyDrive/yolov7\n",
        "#Might be required if packages installation required re-start"
      ]
    },
    {
      "cell_type": "code",
      "execution_count": null,
      "metadata": {
        "colab": {
          "base_uri": "https://localhost:8080/"
        },
        "id": "wEwJXitUMkf4",
        "outputId": "2dc71b2a-ed30-4561-dadf-f3de9c6b7ce5"
      },
      "outputs": [],
      "source": [
        "!python train.py --epochs 100 --device 0 --workers 8 --batch-size 32 --data /content/gdrive/MyDrive/Colab_Notebooks/Group_Project/polyp_people/code/ml_code/data_yaml_files/mini_synthetic.yaml --img 512 512 --cfg config_train_yolov7.yaml --weights /content/gdrive/MyDrive/Colab_Notebooks/Group_Project/polyp_people/code/ml_code/yolov7_training.pt --name colon_run_0603 --hyp data/hyp.scratch.custom.yaml"
      ]
    },
    {
      "cell_type": "markdown",
      "metadata": {
        "id": "Ja1kMQ5YMN-8"
      },
      "source": [
        "# **7. Test Model**\n",
        "*   Update weights path (--weights runs/train/colon_run_X/) with name as per previous cell with each run\n",
        "*   Update validation run name (--name yolov7_colon_val_X)\n"
      ]
    },
    {
      "cell_type": "code",
      "execution_count": null,
      "metadata": {
        "colab": {
          "base_uri": "https://localhost:8080/"
        },
        "id": "7OaNgZeplGfX",
        "outputId": "6738e2cf-4829-413e-f023-0a2715de7f74"
      },
      "outputs": [],
      "source": [
        "!python test.py --data /content/gdrive/MyDrive/Colab_Notebooks/Group_Project/polyp_people/code/ml_code/data_yaml_files/mini_synthetic.yaml --img 512 --batch 32 --conf 0.001 --iou 0.65 --device 0 --weights runs/train/colon_run_0603/weights/best.pt --name colon_test_0603"
      ]
    },
    {
      "cell_type": "markdown",
      "metadata": {
        "id": "9RxfRqxcNuc5"
      },
      "source": [
        "# **8. Save Model (wiped if not saved!!!)**\n",
        "*   Update file paths accodingly\n",
        " *   1st is where it is currently located in mounted drive\n",
        " *   2nd is where we want to save it down in Google Drive - rename the .pt file so it can be identified when saved\n",
        "*   Update path (colon_run_X) for saved model\n",
        "\n",
        "\n",
        "\n"
      ]
    },
    {
      "cell_type": "code",
      "execution_count": null,
      "metadata": {
        "id": "XhB0nNzfZkbB"
      },
      "outputs": [],
      "source": [
        "#Save best model weights\n",
        "!cp runs/train/colon_run_0603/weights/best.pt /content/gdrive/MyDrive/Colab_Notebooks/Group_Project/polyp_people/runs/train/colon_run_0603.pt\n",
        "\n",
        "#Save test folder\n",
        "!cp -r runs/test/colon_test_0603 /content/gdrive/MyDrive/Colab_Notebooks/Group_Project/polyp_people/runs/test/colon_test_0603"
      ]
    },
    {
      "cell_type": "code",
      "execution_count": null,
      "metadata": {},
      "outputs": [],
      "source": []
    }
  ],
  "metadata": {
    "accelerator": "GPU",
    "colab": {
      "gpuType": "T4",
      "provenance": []
    },
    "kernelspec": {
      "display_name": "Python 3",
      "name": "python3"
    },
    "language_info": {
      "name": "python"
    }
  },
  "nbformat": 4,
  "nbformat_minor": 0
}
